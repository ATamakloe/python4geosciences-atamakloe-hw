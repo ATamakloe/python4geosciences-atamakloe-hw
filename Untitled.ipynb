{
 "cells": [
  {
   "cell_type": "code",
   "execution_count": 1,
   "metadata": {
    "collapsed": false
   },
   "outputs": [
    {
     "data": {
      "text/plain": [
       "{'department': 'Environmental Geoscience',\n",
       " 'hometown': 'Spring,TX',\n",
       " 'name': 'Albert',\n",
       " 'reasonfortakingclass': 'Mildly interested',\n",
       " 'studentstatus': 'Undergrad',\n",
       " 'yearsatTAMU': 3}"
      ]
     },
     "execution_count": 1,
     "metadata": {},
     "output_type": "execute_result"
    }
   ],
   "source": [
    "#1 Make A Dictionary\n",
    "d = {'name':\"Albert\",\"hometown\":\"Spring,TX\" ,\"department\":\"Environmental Geoscience\" ,\"studentstatus\":\"Undergrad\",\"yearsatTAMU\":3,\"reasonfortakingclass\":\"Mildly interested\"}\n",
    "d"
   ]
  },
  {
   "cell_type": "code",
   "execution_count": 44,
   "metadata": {
    "collapsed": false
   },
   "outputs": [
    {
     "name": "stdout",
     "output_type": "stream",
     "text": [
      "True\n",
      "False\n"
     ]
    }
   ],
   "source": [
    "#2 Test for Vowels\n",
    "def isVowel(x):\n",
    "    x = x.lower()\n",
    "    if x == \"a\" or x == \"e\" or x == \"i\" or x == \"o\" or x == \"u\":\n",
    "        print(\"True\")\n",
    "    else:\n",
    "        print(\"False\")\n",
    "isVowel(\"A\")\n",
    "isVowel(\"B\")"
   ]
  },
  {
   "cell_type": "code",
   "execution_count": 67,
   "metadata": {
    "collapsed": false
   },
   "outputs": [
    {
     "name": "stdout",
     "output_type": "stream",
     "text": [
      "The length of your string/list (including punctiation) is: 2\n"
     ]
    }
   ],
   "source": [
    "#3 Computing The Length of A String/List\n",
    "def customLength(x):\n",
    "    count = 0\n",
    "    for i in x:\n",
    "        count += 1 \n",
    "    print(\"The length of your string/list (including punctiation) is: \" + str(count))\n",
    "customLength((\"dogs\",\"cats\"))"
   ]
  },
  {
   "cell_type": "code",
   "execution_count": 121,
   "metadata": {
    "collapsed": false
   },
   "outputs": [
    {
     "name": "stdout",
     "output_type": "stream",
     "text": [
      "sgod\n",
      "radar\n",
      "nohtyp\n",
      "racecar\n"
     ]
    }
   ],
   "source": [
    "#4 Reverse String\n",
    "def stringReverse(x):\n",
    "    phrase=\"\"\n",
    "    for i in x[::-1]:\n",
    "        phrase += i\n",
    "        phrase = str(phrase)\n",
    "    print(phrase)\n",
    "stringReverse(\"dogs\")\n",
    "stringReverse(\"radar\")\n",
    "stringReverse(\"python\")\n",
    "stringReverse(\"racecar\")"
   ]
  },
  {
   "cell_type": "code",
   "execution_count": 171,
   "metadata": {
    "collapsed": false
   },
   "outputs": [
    {
     "name": "stdout",
     "output_type": "stream",
     "text": [
      "True\n",
      "True\n",
      "False\n",
      "False\n"
     ]
    }
   ],
   "source": [
    "#5 Palindrome Check\n",
    "def isPalindrome(x):\n",
    "    bucket = \"\"\n",
    "    x = x.replace(\" \",\"\")\n",
    "    for i in x[::-1]:\n",
    "           bucket += i\n",
    "    bucket = bucket.lower()\n",
    "        \n",
    "    if x == bucket:\n",
    "         print(True)\n",
    "    else:\n",
    "        print(False)\n",
    "isPalindrome(\"racecar\")\n",
    "isPalindrome(\"never odd or even\")\n",
    "isPalindrome(\"dogs\")\n",
    "isPalindrome(\"Fish and chips\")"
   ]
  },
  {
   "cell_type": "code",
   "execution_count": null,
   "metadata": {
    "collapsed": true
   },
   "outputs": [],
   "source": []
  },
  {
   "cell_type": "code",
   "execution_count": null,
   "metadata": {
    "collapsed": true
   },
   "outputs": [],
   "source": []
  }
 ],
 "metadata": {
  "kernelspec": {
   "display_name": "Python 3",
   "language": "python",
   "name": "python3"
  },
  "language_info": {
   "codemirror_mode": {
    "name": "ipython",
    "version": 3
   },
   "file_extension": ".py",
   "mimetype": "text/x-python",
   "name": "python",
   "nbconvert_exporter": "python",
   "pygments_lexer": "ipython3",
   "version": "3.5.1"
  }
 },
 "nbformat": 4,
 "nbformat_minor": 0
}
