{
 "cells": [
  {
   "cell_type": "code",
   "execution_count": 2,
   "metadata": {
    "collapsed": false
   },
   "outputs": [
    {
     "data": {
      "text/plain": [
       "array([0, 0, 0, 0, 1, 0, 0, 0, 0, 0])"
      ]
     },
     "execution_count": 2,
     "metadata": {},
     "output_type": "execute_result"
    }
   ],
   "source": [
    "#Problem 1\n",
    "import numpy as np\n",
    "zerovect = [0,0,0,0,1,0,0,0,0,0,]\n",
    "np.array(zerovect)"
   ]
  },
  {
   "cell_type": "code",
   "execution_count": 43,
   "metadata": {
    "collapsed": false
   },
   "outputs": [
    {
     "data": {
      "text/plain": [
       "array([10, 11, 12, 13, 14, 15, 16, 17, 18, 19, 20, 21, 22, 23, 24, 25, 26,\n",
       "       27, 28, 29, 30, 31, 32, 33, 34, 35, 36, 37, 38, 39, 40, 41, 42, 43,\n",
       "       44, 45, 46, 47, 48, 49])"
      ]
     },
     "execution_count": 43,
     "metadata": {},
     "output_type": "execute_result"
    }
   ],
   "source": [
    "#Problem 2\n",
    "bucket = []\n",
    "for i in range(10,50):\n",
    "    bucket.append(i)\n",
    "np.array(bucket)"
   ]
  },
  {
   "cell_type": "code",
   "execution_count": 70,
   "metadata": {
    "collapsed": false
   },
   "outputs": [],
   "source": [
    "#Problem 3\n",
    "\n",
    "def reverser(x):\n",
    "    \"\"\"Input: Some 1-D Array (Vector)\"\"\"\n",
    "    newvect=[];\n",
    "    newvect = np.array(x)[::-1]\n",
    "    return np.array(newvect)\n",
    "    print(newvect)\n",
    "    \"\"\"Output: Reverse of that 1-d Array (Vector)\"\"\"\n"
   ]
  },
  {
   "cell_type": "code",
   "execution_count": 91,
   "metadata": {
    "collapsed": false
   },
   "outputs": [
    {
     "name": "stdout",
     "output_type": "stream",
     "text": [
      "0 1\n",
      "1 2\n",
      "2 0\n",
      "3 0\n",
      "4 4\n",
      "5 0\n"
     ]
    }
   ],
   "source": [
    "#Problem 4\n",
    "\n",
    "def find_nonzero(x):\n",
    "    for index, item in enumerate(np.array(x)):\n",
    "        if i > 0:\n",
    "            print(index, item)\n",
    "testarray= [1,2,0,0,4,0]\n",
    "find_nonzero(testarray)"
   ]
  },
  {
   "cell_type": "code",
   "execution_count": 96,
   "metadata": {
    "collapsed": false
   },
   "outputs": [
    {
     "data": {
      "text/plain": [
       "array([[1, 1, 9],\n",
       "       [1, 1, 2],\n",
       "       [8, 6, 2]])"
      ]
     },
     "execution_count": 96,
     "metadata": {},
     "output_type": "execute_result"
    }
   ],
   "source": [
    "#Problem 5\n",
    "\n",
    "np.random.random_integers(9,size=(3,3))"
   ]
  },
  {
   "cell_type": "code",
   "execution_count": 137,
   "metadata": {
    "collapsed": false
   },
   "outputs": [
    {
     "data": {
      "text/plain": [
       "0.320418020203037"
      ]
     },
     "execution_count": 137,
     "metadata": {},
     "output_type": "execute_result"
    }
   ],
   "source": [
    "#Problem6\n",
    "arr2 = np.random.rand(10,10)\n",
    "arr2[np.argmin(arr2[:, 1]), 0]\n",
    "arr2[np.argmin(arr2[3:,]), 0]"
   ]
  },
  {
   "cell_type": "code",
   "execution_count": 149,
   "metadata": {
    "collapsed": false
   },
   "outputs": [
    {
     "name": "stdout",
     "output_type": "stream",
     "text": [
      "[ 0.02579355  0.69028959  0.79152997  0.26643091  0.29880261  0.39710104\n",
      "  0.88997874  0.9476517   0.99858421  0.22478744]\n"
     ]
    }
   ],
   "source": [
    "#Problem 7\n",
    "arr2 = np.random.rand(10)\n",
    "print(arr2)"
   ]
  },
  {
   "cell_type": "code",
   "execution_count": 150,
   "metadata": {
    "collapsed": false
   },
   "outputs": [
    {
     "data": {
      "text/plain": [
       "array([ 0.02579355,  0.22478744,  0.26643091,  0.29880261,  0.39710104,\n",
       "        0.69028959,  0.79152997,  0.88997874,  0.9476517 ,  0.99858421])"
      ]
     },
     "execution_count": 150,
     "metadata": {},
     "output_type": "execute_result"
    }
   ],
   "source": [
    "#Problem 8\n",
    "np.sort(arr2,axis=0)"
   ]
  },
  {
   "cell_type": "code",
   "execution_count": 160,
   "metadata": {
    "collapsed": false
   },
   "outputs": [
    {
     "data": {
      "text/plain": [
       "False"
      ]
     },
     "execution_count": 160,
     "metadata": {},
     "output_type": "execute_result"
    }
   ],
   "source": [
    "#Problem 9\n",
    "arr3 = np.random.rand(9,3,3)\n",
    "\n",
    "def is_equal(a,b):\n",
    "\"\"\"Checks if arrays have same size, shape, and each element is equal\"\"\"\n",
    "\"\"\"Input are two arrays, outputs boolean (not printed) values of 'True' or 'False' \"\"\"\n",
    "    return np.array_equal(a,b)\n",
    "is_equal(arr2, arr3)"
   ]
  },
  {
   "cell_type": "code",
   "execution_count": 179,
   "metadata": {
    "collapsed": false
   },
   "outputs": [
    {
     "name": "stdout",
     "output_type": "stream",
     "text": [
      "[[ 0.58290752  0.38725091  0.47211757]\n",
      " [ 0.2946722   0.07330839  0.45820776]\n",
      " [ 0.85515009  0.54429211  0.64625915]]\n",
      "0.480758666589\n",
      "0.378077392974\n",
      "0.479351744826\n"
     ]
    },
    {
     "data": {
      "text/plain": [
       "array([[ 0.10355577, -0.09210084, -0.00723417],\n",
       "       [-0.18467954, -0.40604335, -0.02114399],\n",
       "       [ 0.37579835,  0.06494036,  0.1669074 ]])"
      ]
     },
     "execution_count": 179,
     "metadata": {},
     "output_type": "execute_result"
    }
   ],
   "source": [
    "#Problem 10\n",
    "prob5array = np.random.ranf(size=(3,3))\n",
    "print(prob5array)\n",
    "vecmean1 = prob5array[:1,].mean()\n",
    "vecmean2 = prob5array[:2,].mean()\n",
    "vecmean3 = prob5array[:3,].mean()\n",
    "print(vecmean1)\n",
    "print(vecmean2)\n",
    "print(vecmean3)\n",
    "prob5array[:1,] - vecmean1\n",
    "prob5array[:2,] - vecmean2\n",
    "prob5array[:3,] - vecmean3"
   ]
  },
  {
   "cell_type": "code",
   "execution_count": 191,
   "metadata": {
    "collapsed": false
   },
   "outputs": [
    {
     "ename": "ValueError",
     "evalue": "operands could not be broadcast together with shapes (5,5,3) (5,5) ",
     "output_type": "error",
     "traceback": [
      "\u001b[1;31m---------------------------------------------------------------------------\u001b[0m",
      "\u001b[1;31mValueError\u001b[0m                                Traceback (most recent call last)",
      "\u001b[1;32m<ipython-input-191-269b4130187d>\u001b[0m in \u001b[0;36m<module>\u001b[1;34m()\u001b[0m\n\u001b[0;32m      1\u001b[0m \u001b[0mdarray1\u001b[0m \u001b[1;33m=\u001b[0m \u001b[0mnp\u001b[0m\u001b[1;33m.\u001b[0m\u001b[0mrandom\u001b[0m\u001b[1;33m.\u001b[0m\u001b[0mrand\u001b[0m\u001b[1;33m(\u001b[0m\u001b[1;36m5\u001b[0m\u001b[1;33m,\u001b[0m\u001b[1;36m5\u001b[0m\u001b[1;33m,\u001b[0m\u001b[1;36m3\u001b[0m\u001b[1;33m)\u001b[0m\u001b[1;33m\u001b[0m\u001b[0m\n\u001b[0;32m      2\u001b[0m \u001b[0mdarray2\u001b[0m \u001b[1;33m=\u001b[0m \u001b[0mnp\u001b[0m\u001b[1;33m.\u001b[0m\u001b[0mrandom\u001b[0m\u001b[1;33m.\u001b[0m\u001b[0mrand\u001b[0m\u001b[1;33m(\u001b[0m\u001b[1;36m5\u001b[0m\u001b[1;33m,\u001b[0m\u001b[1;36m5\u001b[0m\u001b[1;33m)\u001b[0m\u001b[1;33m\u001b[0m\u001b[0m\n\u001b[1;32m----> 3\u001b[1;33m \u001b[0mnp\u001b[0m\u001b[1;33m.\u001b[0m\u001b[0mmultiply\u001b[0m\u001b[1;33m(\u001b[0m\u001b[0mdarray1\u001b[0m\u001b[1;33m,\u001b[0m\u001b[0mdarray2\u001b[0m\u001b[1;33m)\u001b[0m\u001b[1;33m\u001b[0m\u001b[0m\n\u001b[0m",
      "\u001b[1;31mValueError\u001b[0m: operands could not be broadcast together with shapes (5,5,3) (5,5) "
     ]
    }
   ],
   "source": [
    "#Problem 11\n",
    "darray1 = np.random.rand(5,5,3)\n",
    "darray2 = np.random.rand(5,5)\n",
    "np.multiply(darray1,darray2)"
   ]
  },
  {
   "cell_type": "code",
   "execution_count": 213,
   "metadata": {
    "collapsed": false
   },
   "outputs": [
    {
     "name": "stdout",
     "output_type": "stream",
     "text": [
      "[array([1, 2, 3, 4])]\n",
      "[array([1, 2, 3, 4]), array([2, 3, 4, 5])]\n",
      "[array([1, 2, 3, 4]), array([2, 3, 4, 5]), array([3, 4, 5, 6])]\n",
      "[array([1, 2, 3, 4]), array([2, 3, 4, 5]), array([3, 4, 5, 6]), array([4, 5, 6, 7])]\n",
      "[array([1, 2, 3, 4]), array([2, 3, 4, 5]), array([3, 4, 5, 6]), array([4, 5, 6, 7]), array([5, 6, 7, 8])]\n",
      "[array([1, 2, 3, 4]), array([2, 3, 4, 5]), array([3, 4, 5, 6]), array([4, 5, 6, 7]), array([5, 6, 7, 8]), array([6, 7, 8, 9])]\n",
      "[array([1, 2, 3, 4]), array([2, 3, 4, 5]), array([3, 4, 5, 6]), array([4, 5, 6, 7]), array([5, 6, 7, 8]), array([6, 7, 8, 9]), array([ 7,  8,  9, 10])]\n",
      "[array([1, 2, 3, 4]), array([2, 3, 4, 5]), array([3, 4, 5, 6]), array([4, 5, 6, 7]), array([5, 6, 7, 8]), array([6, 7, 8, 9]), array([ 7,  8,  9, 10]), array([ 8,  9, 10, 11])]\n",
      "[array([1, 2, 3, 4]), array([2, 3, 4, 5]), array([3, 4, 5, 6]), array([4, 5, 6, 7]), array([5, 6, 7, 8]), array([6, 7, 8, 9]), array([ 7,  8,  9, 10]), array([ 8,  9, 10, 11]), array([ 9, 10, 11, 12])]\n",
      "[array([1, 2, 3, 4]), array([2, 3, 4, 5]), array([3, 4, 5, 6]), array([4, 5, 6, 7]), array([5, 6, 7, 8]), array([6, 7, 8, 9]), array([ 7,  8,  9, 10]), array([ 8,  9, 10, 11]), array([ 9, 10, 11, 12]), array([10, 11, 12, 13])]\n",
      "[array([1, 2, 3, 4]), array([2, 3, 4, 5]), array([3, 4, 5, 6]), array([4, 5, 6, 7]), array([5, 6, 7, 8]), array([6, 7, 8, 9]), array([ 7,  8,  9, 10]), array([ 8,  9, 10, 11]), array([ 9, 10, 11, 12]), array([10, 11, 12, 13]), array([11, 12, 13, 14])]\n"
     ]
    }
   ],
   "source": [
    "#Problem 12\n",
    "Z = [1,2,3,4,5,6,7,8,9,10,11,12,13,14]\n",
    "R = []\n",
    "newZ = np.array(Z)\n",
    "for i in range(0,newZ.size - 3):\n",
    "    R.append((newZ[i:i + 4]))\n",
    "    print(R)"
   ]
  },
  {
   "cell_type": "code",
   "execution_count": 214,
   "metadata": {
    "collapsed": true
   },
   "outputs": [],
   "source": [
    "#Problem 13 - I had to google the conversion from cartesian to polar and found something similar to this\n",
    "def cart2polar(x, y):\n",
    "    r = np.sqrt(x**2 + y**2)\n",
    "    theta = np.arctan2(y, x)\n",
    "    return(r, theta)"
   ]
  },
  {
   "cell_type": "code",
   "execution_count": 218,
   "metadata": {
    "collapsed": false
   },
   "outputs": [
    {
     "name": "stdout",
     "output_type": "stream",
     "text": [
      "Wall time: 0 ns\n",
      "Wall time: 0 ns\n",
      "Wall time: 0 ns\n"
     ]
    }
   ],
   "source": [
    "#Problem 14\n",
    "%time a = np.arange(1024.0).reshape(4, 8, 16, 2)\n",
    "%time b = np.random.rand(4, 8, 16, 2)\n",
    "%time sol = a * b"
   ]
  },
  {
   "cell_type": "code",
   "execution_count": 225,
   "metadata": {
    "collapsed": false
   },
   "outputs": [],
   "source": [
    "#Problem 15\n",
    "def calculate(a, b):\n",
    "    \"\"\"Do some calculations\n",
    "    \n",
    "    Take in two arrays, subtract 1/4 of the [:2,:] elements from the elements themselves.\n",
    "    Then multiply with array b and return the result.\n",
    "    \n",
    "    Inputs:\n",
    "        a: input array, shape [MxN]\n",
    "        b: input array, shape [M]\n",
    "    \n",
    "    Returns:\n",
    "        resultant array\n",
    "    \"\"\"\n",
    "\n",
    "    aa = a[:2, :]\n",
    "    aa /= 4.\n",
    "    a[:2, :] -= aa\n",
    "\n",
    "    return a * b\n",
    "    \n",
    "\n",
    "a = np.ones((3, 2))\n",
    "b = np.ones((3,2)) *3\n",
    "res = calculate(a, b)\n",
    "\n",
    "assert (res == np.array([[ 2.25,  2.25],[ 2.25,  2.25],[ 3., 3.]])).any()"
   ]
  },
  {
   "cell_type": "code",
   "execution_count": null,
   "metadata": {
    "collapsed": true
   },
   "outputs": [],
   "source": []
  }
 ],
 "metadata": {
  "kernelspec": {
   "display_name": "Python 3",
   "language": "python",
   "name": "python3"
  },
  "language_info": {
   "codemirror_mode": {
    "name": "ipython",
    "version": 3
   },
   "file_extension": ".py",
   "mimetype": "text/x-python",
   "name": "python",
   "nbconvert_exporter": "python",
   "pygments_lexer": "ipython3",
   "version": "3.5.1"
  }
 },
 "nbformat": 4,
 "nbformat_minor": 0
}
