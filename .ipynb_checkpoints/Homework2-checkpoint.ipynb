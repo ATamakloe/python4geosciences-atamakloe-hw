{
 "cells": [
  {
   "cell_type": "code",
   "execution_count": 1,
   "metadata": {
    "collapsed": false
   },
   "outputs": [
    {
     "data": {
      "text/plain": [
       "{'department': 'Environmental Geoscience',\n",
       " 'hometown': 'Spring,TX',\n",
       " 'name': 'Albert',\n",
       " 'reasonfortakingclass': 'Mildly interested',\n",
       " 'studentstatus': 'Undergrad',\n",
       " 'yearsatTAMU': 3}"
      ]
     },
     "execution_count": 1,
     "metadata": {},
     "output_type": "execute_result"
    }
   ],
   "source": [
    "#1 Make A Dictionary\n",
    "d = {'name':\"Albert\",\"hometown\":\"Spring,TX\" ,\"department\":\"Environmental Geoscience\" ,\"studentstatus\":\"Undergrad\",\"yearsatTAMU\":3,\"reasonfortakingclass\":\"Mildly interested\"}\n",
    "d"
   ]
  },
  {
   "cell_type": "code",
   "execution_count": 44,
   "metadata": {
    "collapsed": false
   },
   "outputs": [
    {
     "name": "stdout",
     "output_type": "stream",
     "text": [
      "True\n",
      "False\n"
     ]
    }
   ],
   "source": [
    "#2 Test for Vowels\n",
    "def isVowel(x):\n",
    "    x = x.lower()\n",
    "    if x == \"a\" or x == \"e\" or x == \"i\" or x == \"o\" or x == \"u\":\n",
    "        print(\"True\")\n",
    "    else:\n",
    "        print(\"False\")\n",
    "isVowel(\"A\")\n",
    "isVowel(\"B\")"
   ]
  },
  {
   "cell_type": "code",
   "execution_count": 67,
   "metadata": {
    "collapsed": false
   },
   "outputs": [
    {
     "name": "stdout",
     "output_type": "stream",
     "text": [
      "The length of your string/list (including punctiation) is: 2\n"
     ]
    }
   ],
   "source": [
    "#3 Computing The Length of A String/List\n",
    "def customLength(x):\n",
    "    count = 0\n",
    "    for i in x:\n",
    "        count += 1 \n",
    "    print(\"The length of your string/list (including punctiation) is: \" + str(count))\n",
    "customLength((\"dogs\",\"cats\"))"
   ]
  },
  {
   "cell_type": "code",
   "execution_count": 121,
   "metadata": {
    "collapsed": false
   },
   "outputs": [
    {
     "name": "stdout",
     "output_type": "stream",
     "text": [
      "sgod\n",
      "radar\n",
      "nohtyp\n",
      "racecar\n"
     ]
    }
   ],
   "source": [
    "#4 Reverse String\n",
    "def stringReverse(x):\n",
    "    phrase=\"\"\n",
    "    for i in x[::-1]:\n",
    "        phrase += i\n",
    "        phrase = str(phrase)\n",
    "    print(phrase)\n",
    "stringReverse(\"dogs\")\n",
    "stringReverse(\"radar\")\n",
    "stringReverse(\"python\")\n",
    "stringReverse(\"racecar\")"
   ]
  },
  {
   "cell_type": "code",
   "execution_count": 171,
   "metadata": {
    "collapsed": false
   },
   "outputs": [
    {
     "name": "stdout",
     "output_type": "stream",
     "text": [
      "True\n",
      "True\n",
      "False\n",
      "False\n"
     ]
    }
   ],
   "source": [
    "#5 Palindrome Check\n",
    "def isPalindrome(x):\n",
    "    bucket = \"\"\n",
    "    x = x.replace(\" \",\"\")\n",
    "    for i in x[::-1]:\n",
    "           bucket += i\n",
    "    bucket = bucket.lower()\n",
    "        \n",
    "    if x == bucket:\n",
    "         print(True)\n",
    "    else:\n",
    "        print(False)\n",
    "isPalindrome(\"racecar\")\n",
    "isPalindrome(\"never odd or even\")\n",
    "isPalindrome(\"dogs\")\n",
    "isPalindrome(\"Fish and chips\")"
   ]
  },
  {
   "cell_type": "code",
   "execution_count": 184,
   "metadata": {
    "collapsed": false
   },
   "outputs": [
    {
     "name": "stdout",
     "output_type": "stream",
     "text": [
      "This is line one\n",
      "\n",
      "This is line two\n",
      "\n",
      "This is line three\n",
      "\n",
      "This is line four\n",
      "\n",
      "This is line five\n",
      "\n",
      "This is line six\n",
      "\n",
      "This is line seven\n"
     ]
    },
    {
     "data": {
      "text/plain": [
       "['1 This is line one\\n',\n",
       " '2 This is line two\\n',\n",
       " '3 This is line three\\n',\n",
       " '4 This is line four\\n',\n",
       " '5 This is line five\\n',\n",
       " '6 This is line six\\n',\n",
       " '7 This is line seven']"
      ]
     },
     "execution_count": 184,
     "metadata": {},
     "output_type": "execute_result"
    }
   ],
   "source": [
    "#6 Numbering lines in a text file. Creates a new file called \"newlinefile1\" which is the original txt file \"linefile\" but numbered.\n",
    "f = open(\"linefile\", \"r\")\n",
    "linecounter = 1\n",
    "container1 = \"\"\n",
    "for line in f:\n",
    "    print(line)\n",
    "    container1 += (str(linecounter) + \" \" + line)\n",
    "    linecounter += 1\n",
    "\n",
    "\n",
    "f = open(\"newlinefile1\", \"x\")\n",
    "f.write(container1)\n",
    "f.close()\n",
    "f = open(\"newlinefile1\", \"r\")\n",
    "f.readlines()"
   ]
  },
  {
   "cell_type": "code",
   "execution_count": 227,
   "metadata": {
    "collapsed": false
   },
   "outputs": [],
   "source": [
    "#7"
   ]
  },
  {
   "cell_type": "code",
   "execution_count": 228,
   "metadata": {
    "collapsed": false
   },
   "outputs": [
    {
     "name": "stdout",
     "output_type": "stream",
     "text": [
      "Caesar cipher? I much prefer Caesar salad!\n"
     ]
    }
   ],
   "source": [
    "#8 ROT-13 Encoder/Decoder \n",
    "key = {'a':'n', 'b':'o', 'c':'p', 'd':'q', 'e':'r', 'f':'s', 'g':'t', 'h':'u', \n",
    "       'i':'v', 'j':'w', 'k':'x', 'l':'y', 'm':'z', 'n':'a', 'o':'b', 'p':'c', \n",
    "       'q':'d', 'r':'e', 's':'f', 't':'g', 'u':'h', 'v':'i', 'w':'j', 'x':'k',\n",
    "       'y':'l', 'z':'m', 'A':'N', 'B':'O', 'C':'P', 'D':'Q', 'E':'R', 'F':'S', \n",
    "       'G':'T', 'H':'U', 'I':'V', 'J':'W', 'K':'X', 'L':'Y', 'M':'Z', 'N':'A', \n",
    "       'O':'B', 'P':'C', 'Q':'D', 'R':'E', 'S':'F', 'T':'G', 'U':'H', 'V':'I', \n",
    "       'W':'J', 'X':'K', 'Y':'L', 'Z':'M'}\n",
    "key['P']\n",
    "\n",
    "newphrase = \"\"\n",
    "for letter in \"Pnrfne pvcure? V zhpu cersre Pnrfne fnynq!\":\n",
    "    if letter == \"?\" or letter == \" \" or letter == \"!\":\n",
    "        newphrase += letter\n",
    "    else:\n",
    "        newphrase += (key[letter])\n",
    "print(newphrase)"
   ]
  },
  {
   "cell_type": "code",
   "execution_count": 11,
   "metadata": {
    "collapsed": false
   },
   "outputs": [
    {
     "name": "stdout",
     "output_type": "stream",
     "text": [
      "3 bottles of beer on the wall, 3 bottles of beer.\n",
      "Take one down, pass it around, 2 bottles of beer on the wall.\n",
      "\n",
      "2 bottles of beer on the wall, 2 bottles of beer.\n",
      "Take one down, pass it around, 1 bottles of beer on the wall.\n",
      "\n",
      "1 bottle of beer on the wall, 1 bottle of beer.\n",
      "Take one down, pass it around, 0 bottles of beer on the wall.\n",
      "\n"
     ]
    }
   ],
   "source": [
    "#9\n",
    "\n",
    "def words(num):\n",
    "    \"\"\"Returns words with proper number of beer bottles filled in.\"\"\"\n",
    "    \n",
    "    if num != 1:\n",
    "        return str(num) + ' bottles of beer on the wall, ' + str(num) + ' bottles of beer.\\n' + 'Take one down, pass it around, ' + str(num-1) + ' bottles of beer on the wall.\\n'\n",
    "\n",
    "    elif num == 1:\n",
    "        return str(num) + ' bottle of beer on the wall, ' + str(num) + ' bottle of beer.\\n' + 'Take one down, pass it around, ' + str(num-1) + ' bottles of beer on the wall.\\n'\n",
    "\n",
    "\n",
    "numbottles = 3\n",
    "        \n",
    "for i in range(numbottles, 0, -1):\n",
    "    print(words(i))"
   ]
  },
  {
   "cell_type": "code",
   "execution_count": null,
   "metadata": {
    "collapsed": true
   },
   "outputs": [],
   "source": []
  }
 ],
 "metadata": {
  "kernelspec": {
   "display_name": "Python 3",
   "language": "python",
   "name": "python3"
  },
  "language_info": {
   "codemirror_mode": {
    "name": "ipython",
    "version": 3
   },
   "file_extension": ".py",
   "mimetype": "text/x-python",
   "name": "python",
   "nbconvert_exporter": "python",
   "pygments_lexer": "ipython3",
   "version": "3.5.1"
  }
 },
 "nbformat": 4,
 "nbformat_minor": 0
}
